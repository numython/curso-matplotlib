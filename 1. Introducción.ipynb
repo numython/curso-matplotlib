{
 "cells": [
  {
   "cell_type": "markdown",
   "metadata": {
    "slideshow": {
     "slide_type": "slide"
    }
   },
   "source": [
    "# Introducción a Matplotlib"
   ]
  },
  {
   "cell_type": "markdown",
   "metadata": {
    "slideshow": {
     "slide_type": "slide"
    }
   },
   "source": [
    "## ¿Qué es Matplotlib?\n",
    "\n",
    "[**Matplotlib**](https://matplotlib.org/) es una biblioteca completa para crear visualizaciones estáticas, animadas e interactivas en Python.\n",
    "\n",
    "<img src=\"https://matplotlib.org/_static/logo2_compressed.svg\" width=\"300px\">"
   ]
  },
  {
   "cell_type": "markdown",
   "metadata": {
    "slideshow": {
     "slide_type": "slide"
    }
   },
   "source": [
    "## ¿Qué podemos hacer en Matplotlib?\n",
    "\n",
    "Algunos ejemplos"
   ]
  },
  {
   "cell_type": "markdown",
   "metadata": {
    "slideshow": {
     "slide_type": "subslide"
    }
   },
   "source": [
    "<img src=\"https://matplotlib.org/_images/sphx_glr_usage_004.png\">"
   ]
  },
  {
   "cell_type": "markdown",
   "metadata": {
    "slideshow": {
     "slide_type": "subslide"
    }
   },
   "source": [
    "<img src=\"https://matplotlib.org/_images/sphx_glr_barchart_demo_001.png\" width=\"600px\">"
   ]
  },
  {
   "cell_type": "markdown",
   "metadata": {
    "slideshow": {
     "slide_type": "subslide"
    }
   },
   "source": [
    "<img src=\"https://matplotlib.org/_images/sphx_glr_tex_demo_002.png\">"
   ]
  },
  {
   "cell_type": "markdown",
   "metadata": {
    "slideshow": {
     "slide_type": "subslide"
    }
   },
   "source": [
    "<img src=\"https://matplotlib.org/_images/sphx_glr_subplots_demo_006.png\">"
   ]
  },
  {
   "cell_type": "markdown",
   "metadata": {
    "slideshow": {
     "slide_type": "subslide"
    }
   },
   "source": [
    "<img src=\"https://matplotlib.org/_images/sphx_glr_polar_legend_001.png\">"
   ]
  },
  {
   "cell_type": "markdown",
   "metadata": {
    "slideshow": {
     "slide_type": "subslide"
    }
   },
   "source": [
    "<img src=\"https://matplotlib.org/_images/sphx_glr_pie_features_001.png\">"
   ]
  },
  {
   "cell_type": "markdown",
   "metadata": {
    "slideshow": {
     "slide_type": "subslide"
    }
   },
   "source": [
    "<img src=\"https://matplotlib.org/_images/sphx_glr_whats_new_98_4_fill_between_001.png\">"
   ]
  },
  {
   "cell_type": "markdown",
   "metadata": {
    "slideshow": {
     "slide_type": "subslide"
    }
   },
   "source": [
    "<img src=\"https://matplotlib.org/_images/sphx_glr_path_patch_001.png\">"
   ]
  },
  {
   "cell_type": "markdown",
   "metadata": {
    "slideshow": {
     "slide_type": "subslide"
    }
   },
   "source": [
    "<img src=\"https://matplotlib.org/_images/sphx_glr_whats_new_99_mplot3d_001.png\">"
   ]
  },
  {
   "cell_type": "markdown",
   "metadata": {
    "slideshow": {
     "slide_type": "subslide"
    }
   },
   "source": [
    "<img src=\"https://matplotlib.org/_images/sphx_glr_tripcolor_demo_003.png\">"
   ]
  },
  {
   "cell_type": "markdown",
   "metadata": {
    "slideshow": {
     "slide_type": "subslide"
    }
   },
   "source": [
    "<img src=\"https://matplotlib.org/_images/sphx_glr_contour_demo_001.png\">"
   ]
  },
  {
   "cell_type": "markdown",
   "metadata": {
    "slideshow": {
     "slide_type": "subslide"
    }
   },
   "source": [
    "<img src=\"https://matplotlib.org/_images/sphx_glr_dark_background_001.png\">"
   ]
  },
  {
   "cell_type": "markdown",
   "metadata": {
    "slideshow": {
     "slide_type": "subslide"
    }
   },
   "source": [
    "[Matplotlib Gallery](https://matplotlib.org/gallery/index.html)"
   ]
  },
  {
   "cell_type": "markdown",
   "metadata": {
    "slideshow": {
     "slide_type": "slide"
    }
   },
   "source": [
    "## Librerías a utilizar durante el curso\n",
    "\n",
    "De manera frecuente:\n",
    "\n",
    "* Matplotlib\n",
    "* NumPy\n",
    "\n",
    "Sugerencia: https://www.anaconda.com/products/individual"
   ]
  },
  {
   "cell_type": "markdown",
   "metadata": {
    "slideshow": {
     "slide_type": "slide"
    }
   },
   "source": [
    "## Algunos temas que se revisarán\n",
    "\n",
    "* La función `plot`: gráficas bidimensionales (de líneas)\n",
    "* Personalización de gráficas: colores, estilos, anotaciones, etiquetas, leyendas, etc.\n",
    "* Los elementos gráficos: figure, axes, axis, etc.\n",
    "* Múltiples gráficas\n",
    "* Exportar/guardar gráficas"
   ]
  },
  {
   "cell_type": "markdown",
   "metadata": {
    "slideshow": {
     "slide_type": "subslide"
    }
   },
   "source": [
    "* Diversos tipos de gráficas:\n",
    "    - De Barras\n",
    "    - Circular (de pastel)\n",
    "    - Coordenadas polares\n",
    "    - De burbujas\n",
    "    - De anillos \n",
    "    - De radar\n",
    "    - Mapa de calor\n",
    "    - Curvas de nivel\n",
    "    - Superficies\n",
    "    - Curvas en el espacio\n",
    "    - Polígonos"
   ]
  },
  {
   "cell_type": "markdown",
   "metadata": {
    "slideshow": {
     "slide_type": "subslide"
    }
   },
   "source": [
    "* Hojas de estilos\n",
    "* Controles interactivos (widgets)"
   ]
  },
  {
   "cell_type": "markdown",
   "metadata": {
    "slideshow": {
     "slide_type": "slide"
    }
   },
   "source": [
    "## Repositorio del curso\n",
    "\n",
    "[https://github.com/numython/curso-matplotlib](https://github.com/numython/curso-matplotlib)"
   ]
  },
  {
   "cell_type": "markdown",
   "metadata": {
    "slideshow": {
     "slide_type": "slide"
    }
   },
   "source": [
    "<img src=\"data:image/png;base64,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\" width=\"100px\">"
   ]
  },
  {
   "cell_type": "code",
   "execution_count": null,
   "metadata": {},
   "outputs": [],
   "source": []
  }
 ],
 "metadata": {
  "celltoolbar": "Slideshow",
  "kernelspec": {
   "display_name": "Python 3",
   "language": "python",
   "name": "python3"
  },
  "language_info": {
   "codemirror_mode": {
    "name": "ipython",
    "version": 3
   },
   "file_extension": ".py",
   "mimetype": "text/x-python",
   "name": "python",
   "nbconvert_exporter": "python",
   "pygments_lexer": "ipython3",
   "version": "3.6.5"
  }
 },
 "nbformat": 4,
 "nbformat_minor": 2
}
